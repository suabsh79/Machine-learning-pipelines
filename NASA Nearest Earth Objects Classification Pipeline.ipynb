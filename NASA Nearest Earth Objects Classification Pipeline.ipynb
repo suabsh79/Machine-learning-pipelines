{
  "nbformat": 4,
  "nbformat_minor": 0,
  "metadata": {
    "colab": {
      "provenance": [],
      "gpuType": "L4"
    },
    "kernelspec": {
      "name": "python3",
      "display_name": "Python 3"
    },
    "language_info": {
      "name": "python"
    },
    "accelerator": "GPU"
  },
  "cells": [
    {
      "cell_type": "code",
      "execution_count": null,
      "metadata": {
        "id": "S-FumDFrC79T"
      },
      "outputs": [],
      "source": [
        "import sys\n",
        "import pandas as pd\n",
        "import numpy as np\n",
        "from sklearn.preprocessing import StandardScaler\n",
        "from sklearn.model_selection import train_test_split\n",
        "from sklearn.ensemble import RandomForestClassifier\n",
        "from sklearn.model_selection import GridSearchCV\n",
        "from sklearn.metrics import classification_report, confusion_matrix\n",
        "from sklearn.preprocessing import LabelEncoder, MinMaxScaler,StandardScaler\n",
        "import matplotlib.pyplot as plt\n",
        "import seaborn as sns\n",
        "import warnings\n",
        "from google.colab import drive\n",
        "\n",
        "warnings.filterwarnings('ignore')"
      ]
    },
    {
      "cell_type": "code",
      "source": [
        "# Mount Google drive\n",
        "drive.mount('/content/drive')"
      ],
      "metadata": {
        "colab": {
          "base_uri": "https://localhost:8080/"
        },
        "id": "qbVMvOWEeWWX",
        "outputId": "09b88677-a044-4fce-fd01-da86fa1f2515"
      },
      "execution_count": null,
      "outputs": [
        {
          "output_type": "stream",
          "name": "stdout",
          "text": [
            "Mounted at /content/drive\n"
          ]
        }
      ]
    },
    {
      "cell_type": "code",
      "source": [
        "rl=pd.read_csv('/content/drive/MyDrive/Datasets/nearest-earth-objects(1910-2024).csv', low_memory=False)\n",
        "rl = pd.DataFrame(rl)\n"
      ],
      "metadata": {
        "id": "q5YNMjQnGcrd"
      },
      "execution_count": null,
      "outputs": []
    },
    {
      "cell_type": "code",
      "source": [
        "rl.info()"
      ],
      "metadata": {
        "colab": {
          "base_uri": "https://localhost:8080/"
        },
        "id": "MC5inLLBGqtC",
        "outputId": "828589a1-7509-4365-fe7d-268f060e047b"
      },
      "execution_count": null,
      "outputs": [
        {
          "output_type": "stream",
          "name": "stdout",
          "text": [
            "<class 'pandas.core.frame.DataFrame'>\n",
            "RangeIndex: 338199 entries, 0 to 338198\n",
            "Data columns (total 9 columns):\n",
            " #   Column                  Non-Null Count   Dtype  \n",
            "---  ------                  --------------   -----  \n",
            " 0   neo_id                  338199 non-null  int64  \n",
            " 1   name                    338199 non-null  object \n",
            " 2   absolute_magnitude      338171 non-null  float64\n",
            " 3   estimated_diameter_min  338171 non-null  float64\n",
            " 4   estimated_diameter_max  338171 non-null  float64\n",
            " 5   orbiting_body           338199 non-null  object \n",
            " 6   relative_velocity       338199 non-null  float64\n",
            " 7   miss_distance           338199 non-null  float64\n",
            " 8   is_hazardous            338199 non-null  bool   \n",
            "dtypes: bool(1), float64(5), int64(1), object(2)\n",
            "memory usage: 21.0+ MB\n"
          ]
        }
      ]
    },
    {
      "cell_type": "code",
      "source": [
        "rl.nunique()"
      ],
      "metadata": {
        "colab": {
          "base_uri": "https://localhost:8080/",
          "height": 366
        },
        "id": "tjiXlVrrVNeA",
        "outputId": "fa2fc19c-34f1-45c5-822e-5c9aac37b6fc"
      },
      "execution_count": null,
      "outputs": [
        {
          "output_type": "execute_result",
          "data": {
            "text/plain": [
              "neo_id                     33514\n",
              "name                       33514\n",
              "absolute_magnitude          1778\n",
              "estimated_diameter_min      1778\n",
              "estimated_diameter_max      1778\n",
              "orbiting_body                  1\n",
              "relative_velocity         338189\n",
              "miss_distance             337826\n",
              "is_hazardous                   2\n",
              "dtype: int64"
            ],
            "text/html": [
              "<table border=\"1\" class=\"dataframe\">\n",
              "  <thead>\n",
              "    <tr style=\"text-align: right;\">\n",
              "      <th></th>\n",
              "      <th>0</th>\n",
              "    </tr>\n",
              "  </thead>\n",
              "  <tbody>\n",
              "    <tr>\n",
              "      <th>neo_id</th>\n",
              "      <td>33514</td>\n",
              "    </tr>\n",
              "    <tr>\n",
              "      <th>name</th>\n",
              "      <td>33514</td>\n",
              "    </tr>\n",
              "    <tr>\n",
              "      <th>absolute_magnitude</th>\n",
              "      <td>1778</td>\n",
              "    </tr>\n",
              "    <tr>\n",
              "      <th>estimated_diameter_min</th>\n",
              "      <td>1778</td>\n",
              "    </tr>\n",
              "    <tr>\n",
              "      <th>estimated_diameter_max</th>\n",
              "      <td>1778</td>\n",
              "    </tr>\n",
              "    <tr>\n",
              "      <th>orbiting_body</th>\n",
              "      <td>1</td>\n",
              "    </tr>\n",
              "    <tr>\n",
              "      <th>relative_velocity</th>\n",
              "      <td>338189</td>\n",
              "    </tr>\n",
              "    <tr>\n",
              "      <th>miss_distance</th>\n",
              "      <td>337826</td>\n",
              "    </tr>\n",
              "    <tr>\n",
              "      <th>is_hazardous</th>\n",
              "      <td>2</td>\n",
              "    </tr>\n",
              "  </tbody>\n",
              "</table><br><label><b>dtype:</b> int64</label>"
            ]
          },
          "metadata": {},
          "execution_count": 5
        }
      ]
    },
    {
      "cell_type": "code",
      "source": [
        "rl_1 = rl.drop(columns=['neo_id', 'name','orbiting_body'])"
      ],
      "metadata": {
        "id": "C28EuShsH3F3"
      },
      "execution_count": null,
      "outputs": []
    },
    {
      "cell_type": "code",
      "source": [
        "# rl['is_hazardous'] = rl['is_hazardous'].map({'False': 0, 'True': 1})\n",
        "le = LabelEncoder()\n",
        "rl_1['is_hazardous'] = le.fit_transform(rl_1['is_hazardous'])\n",
        "scaler = MinMaxScaler()\n",
        "rl_1['miss_distance'] = scaler.fit_transform(rl_1[['miss_distance']])\n",
        "rl_1['relative_velocity'] = scaler.fit_transform(rl_1[['relative_velocity']])"
      ],
      "metadata": {
        "id": "L8VPgH0oO1rL"
      },
      "execution_count": null,
      "outputs": []
    },
    {
      "cell_type": "code",
      "source": [
        "rl_1"
      ],
      "metadata": {
        "colab": {
          "base_uri": "https://localhost:8080/",
          "height": 424
        },
        "id": "DFxQgfdAQEtB",
        "outputId": "da16c0e5-158d-42b6-fb4b-91fc20330b05"
      },
      "execution_count": null,
      "outputs": [
        {
          "output_type": "execute_result",
          "data": {
            "text/plain": [
              "        absolute_magnitude  estimated_diameter_min  estimated_diameter_max  \\\n",
              "0                   19.140                0.394962                0.883161   \n",
              "1                   18.500                0.530341                1.185878   \n",
              "2                   21.450                0.136319                0.304818   \n",
              "3                   20.630                0.198863                0.444672   \n",
              "4                   22.700                0.076658                0.171412   \n",
              "...                    ...                     ...                     ...   \n",
              "338194              28.580                0.005112                0.011430   \n",
              "338195              28.690                0.004859                0.010865   \n",
              "338196              21.919                0.109839                0.245607   \n",
              "338197              23.887                0.044377                0.099229   \n",
              "338198              22.951                0.068290                0.152700   \n",
              "\n",
              "        relative_velocity  miss_distance  is_hazardous  \n",
              "0                0.245362       0.777315             0  \n",
              "1                0.376388       0.745994             1  \n",
              "2                0.084582       0.898495             0  \n",
              "3                0.269865       0.406323             0  \n",
              "4                0.191486       0.843833             0  \n",
              "...                   ...            ...           ...  \n",
              "338194           0.193580       0.856493             0  \n",
              "338195           0.071773       0.394188             0  \n",
              "338196           0.039882       0.714704             0  \n",
              "338197           0.192042       0.069232             0  \n",
              "338198           0.143554       0.095197             0  \n",
              "\n",
              "[338199 rows x 6 columns]"
            ],
            "text/html": [
              "\n",
              "  <div id=\"df-54067a69-68d5-4be1-a434-09bac0145ea4\" class=\"colab-df-container\">\n",
              "    <div>\n",
              "<style scoped>\n",
              "    .dataframe tbody tr th:only-of-type {\n",
              "        vertical-align: middle;\n",
              "    }\n",
              "\n",
              "    .dataframe tbody tr th {\n",
              "        vertical-align: top;\n",
              "    }\n",
              "\n",
              "    .dataframe thead th {\n",
              "        text-align: right;\n",
              "    }\n",
              "</style>\n",
              "<table border=\"1\" class=\"dataframe\">\n",
              "  <thead>\n",
              "    <tr style=\"text-align: right;\">\n",
              "      <th></th>\n",
              "      <th>absolute_magnitude</th>\n",
              "      <th>estimated_diameter_min</th>\n",
              "      <th>estimated_diameter_max</th>\n",
              "      <th>relative_velocity</th>\n",
              "      <th>miss_distance</th>\n",
              "      <th>is_hazardous</th>\n",
              "    </tr>\n",
              "  </thead>\n",
              "  <tbody>\n",
              "    <tr>\n",
              "      <th>0</th>\n",
              "      <td>19.140</td>\n",
              "      <td>0.394962</td>\n",
              "      <td>0.883161</td>\n",
              "      <td>0.245362</td>\n",
              "      <td>0.777315</td>\n",
              "      <td>0</td>\n",
              "    </tr>\n",
              "    <tr>\n",
              "      <th>1</th>\n",
              "      <td>18.500</td>\n",
              "      <td>0.530341</td>\n",
              "      <td>1.185878</td>\n",
              "      <td>0.376388</td>\n",
              "      <td>0.745994</td>\n",
              "      <td>1</td>\n",
              "    </tr>\n",
              "    <tr>\n",
              "      <th>2</th>\n",
              "      <td>21.450</td>\n",
              "      <td>0.136319</td>\n",
              "      <td>0.304818</td>\n",
              "      <td>0.084582</td>\n",
              "      <td>0.898495</td>\n",
              "      <td>0</td>\n",
              "    </tr>\n",
              "    <tr>\n",
              "      <th>3</th>\n",
              "      <td>20.630</td>\n",
              "      <td>0.198863</td>\n",
              "      <td>0.444672</td>\n",
              "      <td>0.269865</td>\n",
              "      <td>0.406323</td>\n",
              "      <td>0</td>\n",
              "    </tr>\n",
              "    <tr>\n",
              "      <th>4</th>\n",
              "      <td>22.700</td>\n",
              "      <td>0.076658</td>\n",
              "      <td>0.171412</td>\n",
              "      <td>0.191486</td>\n",
              "      <td>0.843833</td>\n",
              "      <td>0</td>\n",
              "    </tr>\n",
              "    <tr>\n",
              "      <th>...</th>\n",
              "      <td>...</td>\n",
              "      <td>...</td>\n",
              "      <td>...</td>\n",
              "      <td>...</td>\n",
              "      <td>...</td>\n",
              "      <td>...</td>\n",
              "    </tr>\n",
              "    <tr>\n",
              "      <th>338194</th>\n",
              "      <td>28.580</td>\n",
              "      <td>0.005112</td>\n",
              "      <td>0.011430</td>\n",
              "      <td>0.193580</td>\n",
              "      <td>0.856493</td>\n",
              "      <td>0</td>\n",
              "    </tr>\n",
              "    <tr>\n",
              "      <th>338195</th>\n",
              "      <td>28.690</td>\n",
              "      <td>0.004859</td>\n",
              "      <td>0.010865</td>\n",
              "      <td>0.071773</td>\n",
              "      <td>0.394188</td>\n",
              "      <td>0</td>\n",
              "    </tr>\n",
              "    <tr>\n",
              "      <th>338196</th>\n",
              "      <td>21.919</td>\n",
              "      <td>0.109839</td>\n",
              "      <td>0.245607</td>\n",
              "      <td>0.039882</td>\n",
              "      <td>0.714704</td>\n",
              "      <td>0</td>\n",
              "    </tr>\n",
              "    <tr>\n",
              "      <th>338197</th>\n",
              "      <td>23.887</td>\n",
              "      <td>0.044377</td>\n",
              "      <td>0.099229</td>\n",
              "      <td>0.192042</td>\n",
              "      <td>0.069232</td>\n",
              "      <td>0</td>\n",
              "    </tr>\n",
              "    <tr>\n",
              "      <th>338198</th>\n",
              "      <td>22.951</td>\n",
              "      <td>0.068290</td>\n",
              "      <td>0.152700</td>\n",
              "      <td>0.143554</td>\n",
              "      <td>0.095197</td>\n",
              "      <td>0</td>\n",
              "    </tr>\n",
              "  </tbody>\n",
              "</table>\n",
              "<p>338199 rows × 6 columns</p>\n",
              "</div>\n",
              "    <div class=\"colab-df-buttons\">\n",
              "\n",
              "  <div class=\"colab-df-container\">\n",
              "    <button class=\"colab-df-convert\" onclick=\"convertToInteractive('df-54067a69-68d5-4be1-a434-09bac0145ea4')\"\n",
              "            title=\"Convert this dataframe to an interactive table.\"\n",
              "            style=\"display:none;\">\n",
              "\n",
              "  <svg xmlns=\"http://www.w3.org/2000/svg\" height=\"24px\" viewBox=\"0 -960 960 960\">\n",
              "    <path d=\"M120-120v-720h720v720H120Zm60-500h600v-160H180v160Zm220 220h160v-160H400v160Zm0 220h160v-160H400v160ZM180-400h160v-160H180v160Zm440 0h160v-160H620v160ZM180-180h160v-160H180v160Zm440 0h160v-160H620v160Z\"/>\n",
              "  </svg>\n",
              "    </button>\n",
              "\n",
              "  <style>\n",
              "    .colab-df-container {\n",
              "      display:flex;\n",
              "      gap: 12px;\n",
              "    }\n",
              "\n",
              "    .colab-df-convert {\n",
              "      background-color: #E8F0FE;\n",
              "      border: none;\n",
              "      border-radius: 50%;\n",
              "      cursor: pointer;\n",
              "      display: none;\n",
              "      fill: #1967D2;\n",
              "      height: 32px;\n",
              "      padding: 0 0 0 0;\n",
              "      width: 32px;\n",
              "    }\n",
              "\n",
              "    .colab-df-convert:hover {\n",
              "      background-color: #E2EBFA;\n",
              "      box-shadow: 0px 1px 2px rgba(60, 64, 67, 0.3), 0px 1px 3px 1px rgba(60, 64, 67, 0.15);\n",
              "      fill: #174EA6;\n",
              "    }\n",
              "\n",
              "    .colab-df-buttons div {\n",
              "      margin-bottom: 4px;\n",
              "    }\n",
              "\n",
              "    [theme=dark] .colab-df-convert {\n",
              "      background-color: #3B4455;\n",
              "      fill: #D2E3FC;\n",
              "    }\n",
              "\n",
              "    [theme=dark] .colab-df-convert:hover {\n",
              "      background-color: #434B5C;\n",
              "      box-shadow: 0px 1px 3px 1px rgba(0, 0, 0, 0.15);\n",
              "      filter: drop-shadow(0px 1px 2px rgba(0, 0, 0, 0.3));\n",
              "      fill: #FFFFFF;\n",
              "    }\n",
              "  </style>\n",
              "\n",
              "    <script>\n",
              "      const buttonEl =\n",
              "        document.querySelector('#df-54067a69-68d5-4be1-a434-09bac0145ea4 button.colab-df-convert');\n",
              "      buttonEl.style.display =\n",
              "        google.colab.kernel.accessAllowed ? 'block' : 'none';\n",
              "\n",
              "      async function convertToInteractive(key) {\n",
              "        const element = document.querySelector('#df-54067a69-68d5-4be1-a434-09bac0145ea4');\n",
              "        const dataTable =\n",
              "          await google.colab.kernel.invokeFunction('convertToInteractive',\n",
              "                                                    [key], {});\n",
              "        if (!dataTable) return;\n",
              "\n",
              "        const docLinkHtml = 'Like what you see? Visit the ' +\n",
              "          '<a target=\"_blank\" href=https://colab.research.google.com/notebooks/data_table.ipynb>data table notebook</a>'\n",
              "          + ' to learn more about interactive tables.';\n",
              "        element.innerHTML = '';\n",
              "        dataTable['output_type'] = 'display_data';\n",
              "        await google.colab.output.renderOutput(dataTable, element);\n",
              "        const docLink = document.createElement('div');\n",
              "        docLink.innerHTML = docLinkHtml;\n",
              "        element.appendChild(docLink);\n",
              "      }\n",
              "    </script>\n",
              "  </div>\n",
              "\n",
              "\n",
              "<div id=\"df-b25ea2b3-fbc6-42b7-ba0d-037fc180f32d\">\n",
              "  <button class=\"colab-df-quickchart\" onclick=\"quickchart('df-b25ea2b3-fbc6-42b7-ba0d-037fc180f32d')\"\n",
              "            title=\"Suggest charts\"\n",
              "            style=\"display:none;\">\n",
              "\n",
              "<svg xmlns=\"http://www.w3.org/2000/svg\" height=\"24px\"viewBox=\"0 0 24 24\"\n",
              "     width=\"24px\">\n",
              "    <g>\n",
              "        <path d=\"M19 3H5c-1.1 0-2 .9-2 2v14c0 1.1.9 2 2 2h14c1.1 0 2-.9 2-2V5c0-1.1-.9-2-2-2zM9 17H7v-7h2v7zm4 0h-2V7h2v10zm4 0h-2v-4h2v4z\"/>\n",
              "    </g>\n",
              "</svg>\n",
              "  </button>\n",
              "\n",
              "<style>\n",
              "  .colab-df-quickchart {\n",
              "      --bg-color: #E8F0FE;\n",
              "      --fill-color: #1967D2;\n",
              "      --hover-bg-color: #E2EBFA;\n",
              "      --hover-fill-color: #174EA6;\n",
              "      --disabled-fill-color: #AAA;\n",
              "      --disabled-bg-color: #DDD;\n",
              "  }\n",
              "\n",
              "  [theme=dark] .colab-df-quickchart {\n",
              "      --bg-color: #3B4455;\n",
              "      --fill-color: #D2E3FC;\n",
              "      --hover-bg-color: #434B5C;\n",
              "      --hover-fill-color: #FFFFFF;\n",
              "      --disabled-bg-color: #3B4455;\n",
              "      --disabled-fill-color: #666;\n",
              "  }\n",
              "\n",
              "  .colab-df-quickchart {\n",
              "    background-color: var(--bg-color);\n",
              "    border: none;\n",
              "    border-radius: 50%;\n",
              "    cursor: pointer;\n",
              "    display: none;\n",
              "    fill: var(--fill-color);\n",
              "    height: 32px;\n",
              "    padding: 0;\n",
              "    width: 32px;\n",
              "  }\n",
              "\n",
              "  .colab-df-quickchart:hover {\n",
              "    background-color: var(--hover-bg-color);\n",
              "    box-shadow: 0 1px 2px rgba(60, 64, 67, 0.3), 0 1px 3px 1px rgba(60, 64, 67, 0.15);\n",
              "    fill: var(--button-hover-fill-color);\n",
              "  }\n",
              "\n",
              "  .colab-df-quickchart-complete:disabled,\n",
              "  .colab-df-quickchart-complete:disabled:hover {\n",
              "    background-color: var(--disabled-bg-color);\n",
              "    fill: var(--disabled-fill-color);\n",
              "    box-shadow: none;\n",
              "  }\n",
              "\n",
              "  .colab-df-spinner {\n",
              "    border: 2px solid var(--fill-color);\n",
              "    border-color: transparent;\n",
              "    border-bottom-color: var(--fill-color);\n",
              "    animation:\n",
              "      spin 1s steps(1) infinite;\n",
              "  }\n",
              "\n",
              "  @keyframes spin {\n",
              "    0% {\n",
              "      border-color: transparent;\n",
              "      border-bottom-color: var(--fill-color);\n",
              "      border-left-color: var(--fill-color);\n",
              "    }\n",
              "    20% {\n",
              "      border-color: transparent;\n",
              "      border-left-color: var(--fill-color);\n",
              "      border-top-color: var(--fill-color);\n",
              "    }\n",
              "    30% {\n",
              "      border-color: transparent;\n",
              "      border-left-color: var(--fill-color);\n",
              "      border-top-color: var(--fill-color);\n",
              "      border-right-color: var(--fill-color);\n",
              "    }\n",
              "    40% {\n",
              "      border-color: transparent;\n",
              "      border-right-color: var(--fill-color);\n",
              "      border-top-color: var(--fill-color);\n",
              "    }\n",
              "    60% {\n",
              "      border-color: transparent;\n",
              "      border-right-color: var(--fill-color);\n",
              "    }\n",
              "    80% {\n",
              "      border-color: transparent;\n",
              "      border-right-color: var(--fill-color);\n",
              "      border-bottom-color: var(--fill-color);\n",
              "    }\n",
              "    90% {\n",
              "      border-color: transparent;\n",
              "      border-bottom-color: var(--fill-color);\n",
              "    }\n",
              "  }\n",
              "</style>\n",
              "\n",
              "  <script>\n",
              "    async function quickchart(key) {\n",
              "      const quickchartButtonEl =\n",
              "        document.querySelector('#' + key + ' button');\n",
              "      quickchartButtonEl.disabled = true;  // To prevent multiple clicks.\n",
              "      quickchartButtonEl.classList.add('colab-df-spinner');\n",
              "      try {\n",
              "        const charts = await google.colab.kernel.invokeFunction(\n",
              "            'suggestCharts', [key], {});\n",
              "      } catch (error) {\n",
              "        console.error('Error during call to suggestCharts:', error);\n",
              "      }\n",
              "      quickchartButtonEl.classList.remove('colab-df-spinner');\n",
              "      quickchartButtonEl.classList.add('colab-df-quickchart-complete');\n",
              "    }\n",
              "    (() => {\n",
              "      let quickchartButtonEl =\n",
              "        document.querySelector('#df-b25ea2b3-fbc6-42b7-ba0d-037fc180f32d button');\n",
              "      quickchartButtonEl.style.display =\n",
              "        google.colab.kernel.accessAllowed ? 'block' : 'none';\n",
              "    })();\n",
              "  </script>\n",
              "</div>\n",
              "\n",
              "  <div id=\"id_f2d32a68-28f5-4bab-ba91-97693aaf2d70\">\n",
              "    <style>\n",
              "      .colab-df-generate {\n",
              "        background-color: #E8F0FE;\n",
              "        border: none;\n",
              "        border-radius: 50%;\n",
              "        cursor: pointer;\n",
              "        display: none;\n",
              "        fill: #1967D2;\n",
              "        height: 32px;\n",
              "        padding: 0 0 0 0;\n",
              "        width: 32px;\n",
              "      }\n",
              "\n",
              "      .colab-df-generate:hover {\n",
              "        background-color: #E2EBFA;\n",
              "        box-shadow: 0px 1px 2px rgba(60, 64, 67, 0.3), 0px 1px 3px 1px rgba(60, 64, 67, 0.15);\n",
              "        fill: #174EA6;\n",
              "      }\n",
              "\n",
              "      [theme=dark] .colab-df-generate {\n",
              "        background-color: #3B4455;\n",
              "        fill: #D2E3FC;\n",
              "      }\n",
              "\n",
              "      [theme=dark] .colab-df-generate:hover {\n",
              "        background-color: #434B5C;\n",
              "        box-shadow: 0px 1px 3px 1px rgba(0, 0, 0, 0.15);\n",
              "        filter: drop-shadow(0px 1px 2px rgba(0, 0, 0, 0.3));\n",
              "        fill: #FFFFFF;\n",
              "      }\n",
              "    </style>\n",
              "    <button class=\"colab-df-generate\" onclick=\"generateWithVariable('rl_1')\"\n",
              "            title=\"Generate code using this dataframe.\"\n",
              "            style=\"display:none;\">\n",
              "\n",
              "  <svg xmlns=\"http://www.w3.org/2000/svg\" height=\"24px\"viewBox=\"0 0 24 24\"\n",
              "       width=\"24px\">\n",
              "    <path d=\"M7,19H8.4L18.45,9,17,7.55,7,17.6ZM5,21V16.75L18.45,3.32a2,2,0,0,1,2.83,0l1.4,1.43a1.91,1.91,0,0,1,.58,1.4,1.91,1.91,0,0,1-.58,1.4L9.25,21ZM18.45,9,17,7.55Zm-12,3A5.31,5.31,0,0,0,4.9,8.1,5.31,5.31,0,0,0,1,6.5,5.31,5.31,0,0,0,4.9,4.9,5.31,5.31,0,0,0,6.5,1,5.31,5.31,0,0,0,8.1,4.9,5.31,5.31,0,0,0,12,6.5,5.46,5.46,0,0,0,6.5,12Z\"/>\n",
              "  </svg>\n",
              "    </button>\n",
              "    <script>\n",
              "      (() => {\n",
              "      const buttonEl =\n",
              "        document.querySelector('#id_f2d32a68-28f5-4bab-ba91-97693aaf2d70 button.colab-df-generate');\n",
              "      buttonEl.style.display =\n",
              "        google.colab.kernel.accessAllowed ? 'block' : 'none';\n",
              "\n",
              "      buttonEl.onclick = () => {\n",
              "        google.colab.notebook.generateWithVariable('rl_1');\n",
              "      }\n",
              "      })();\n",
              "    </script>\n",
              "  </div>\n",
              "\n",
              "    </div>\n",
              "  </div>\n"
            ],
            "application/vnd.google.colaboratory.intrinsic+json": {
              "type": "dataframe",
              "variable_name": "rl_1"
            }
          },
          "metadata": {},
          "execution_count": 8
        }
      ]
    },
    {
      "cell_type": "code",
      "source": [
        "rl_1.info()"
      ],
      "metadata": {
        "colab": {
          "base_uri": "https://localhost:8080/"
        },
        "id": "6WteFpzDPSlK",
        "outputId": "31cc414b-6316-42fe-8f3c-215280d85e99"
      },
      "execution_count": null,
      "outputs": [
        {
          "output_type": "stream",
          "name": "stdout",
          "text": [
            "<class 'pandas.core.frame.DataFrame'>\n",
            "RangeIndex: 338199 entries, 0 to 338198\n",
            "Data columns (total 6 columns):\n",
            " #   Column                  Non-Null Count   Dtype  \n",
            "---  ------                  --------------   -----  \n",
            " 0   absolute_magnitude      338171 non-null  float64\n",
            " 1   estimated_diameter_min  338171 non-null  float64\n",
            " 2   estimated_diameter_max  338171 non-null  float64\n",
            " 3   relative_velocity       338199 non-null  float64\n",
            " 4   miss_distance           338199 non-null  float64\n",
            " 5   is_hazardous            338199 non-null  int64  \n",
            "dtypes: float64(5), int64(1)\n",
            "memory usage: 15.5 MB\n"
          ]
        }
      ]
    },
    {
      "cell_type": "code",
      "source": [
        "#Display the distribution of target variable\n",
        "plt.figure(figsize=(10, 6))\n",
        "sns.countplot(x='is_hazardous', data = rl_1)\n",
        "plt.title('Comparison of Classes')\n",
        "plt.xlabel('is_hazardous')\n",
        "plt.ylabel('Count')\n",
        "plt.show()\n",
        "print(f\"{rl_1['is_hazardous'].value_counts()}\")"
      ],
      "metadata": {
        "colab": {
          "base_uri": "https://localhost:8080/",
          "height": 633
        },
        "id": "5Zlk3K9fTnwX",
        "outputId": "5658dab4-f7f8-4d2e-9db1-2439019f92c9"
      },
      "execution_count": null,
      "outputs": [
        {
          "output_type": "display_data",
          "data": {
            "text/plain": [
              "<Figure size 1000x600 with 1 Axes>"
            ],
            "image/png": "[encoded data removed]"
          },
          "metadata": {}
        },
        {
          "output_type": "stream",
          "name": "stdout",
          "text": [
            "is_hazardous\n",
            "0    295037\n",
            "1     43162\n",
            "Name: count, dtype: int64\n"
          ]
        }
      ]
    },
    {
      "cell_type": "code",
      "source": [
        "#Split the features and target variable for training and target variable for training\n",
        "x=rl_1.drop(\"is_hazardous\",axis=1)\n",
        "y=rl_1[\"is_hazardous\"]"
      ],
      "metadata": {
        "id": "fbPOfeV2Wg1H"
      },
      "execution_count": null,
      "outputs": []
    },
    {
      "cell_type": "code",
      "source": [
        "from sklearn.impute import SimpleImputer\n",
        "\n",
        "# Initial split to get train and test sets\n",
        "X_train_full, X_test, y_train_full, y_test = train_test_split(x, y, test_size=0.20, random_state=42)\n",
        "\n",
        "# Further split the training set to get validation set\n",
        "X_train, X_val, y_train, y_val = train_test_split(X_train_full, y_train_full, test_size=0.125, random_state=42)  # 0.125 x 0.8 = 0.10\n"
      ],
      "metadata": {
        "id": "QQ1ZVqbvZqyJ"
      },
      "execution_count": null,
      "outputs": []
    },
    {
      "cell_type": "markdown",
      "source": [
        "**Cat Boost Classifier**"
      ],
      "metadata": {
        "id": "AI7tnSmU_IFb"
      }
    },
    {
      "cell_type": "code",
      "source": [
        "!pip install catboost\n",
        "from catboost import CatBoostClassifier, Pool\n",
        "from catboost import CatBoostClassifier\n",
        "\n",
        "# Prepare the data pools\n",
        "train_pool = Pool(X_train, y_train)\n",
        "val_pool = Pool(X_val, y_val)\n",
        "\n",
        "# Define the parameter grid\n",
        "param_grid = {\n",
        "    'iterations': [100, 200],\n",
        "    'depth': [4, 6],\n",
        "    'learning_rate': [0.01, 0.1],\n",
        "    'l2_leaf_reg': [1, 3],\n",
        "}\n",
        "\n",
        "\n",
        "# Initialize the CatBoostClassifier\n",
        "\n",
        "cb = CatBoostClassifier(\n",
        "    task_type='GPU',  # Use 'CPU' if you don't have a GPU\n",
        "    verbose=0,\n",
        "    random_seed=42\n",
        ")\n",
        "\n",
        "\n",
        "# Perform grid search\n",
        "grid_search_result = cb.grid_search(param_grid, train_pool, cv=3, partition_random_seed=42, refit=True)"
      ],
      "metadata": {
        "colab": {
          "base_uri": "https://localhost:8080/"
        },
        "id": "rNTHWiGTsm2p",
        "outputId": "8ed189c6-d9fd-4551-8898-d0e3f31e116a"
      },
      "execution_count": null,
      "outputs": [
        {
          "output_type": "stream",
          "name": "stdout",
          "text": [
            "Requirement already satisfied: catboost in /usr/local/lib/python3.10/dist-packages (1.2.5)\n",
            "Requirement already satisfied: graphviz in /usr/local/lib/python3.10/dist-packages (from catboost) (0.20.3)\n",
            "Requirement already satisfied: matplotlib in /usr/local/lib/python3.10/dist-packages (from catboost) (3.7.1)\n",
            "Requirement already satisfied: numpy>=1.16.0 in /usr/local/lib/python3.10/dist-packages (from catboost) (1.26.4)\n",
            "Requirement already satisfied: pandas>=0.24 in /usr/local/lib/python3.10/dist-packages (from catboost) (2.1.4)\n",
            "Requirement already satisfied: scipy in /usr/local/lib/python3.10/dist-packages (from catboost) (1.13.1)\n",
            "Requirement already satisfied: plotly in /usr/local/lib/python3.10/dist-packages (from catboost) (5.15.0)\n",
            "Requirement already satisfied: six in /usr/local/lib/python3.10/dist-packages (from catboost) (1.16.0)\n",
            "Requirement already satisfied: python-dateutil>=2.8.2 in /usr/local/lib/python3.10/dist-packages (from pandas>=0.24->catboost) (2.8.2)\n",
            "Requirement already satisfied: pytz>=2020.1 in /usr/local/lib/python3.10/dist-packages (from pandas>=0.24->catboost) (2024.1)\n",
            "Requirement already satisfied: tzdata>=2022.1 in /usr/local/lib/python3.10/dist-packages (from pandas>=0.24->catboost) (2024.1)\n",
            "Requirement already satisfied: contourpy>=1.0.1 in /usr/local/lib/python3.10/dist-packages (from matplotlib->catboost) (1.2.1)\n",
            "Requirement already satisfied: cycler>=0.10 in /usr/local/lib/python3.10/dist-packages (from matplotlib->catboost) (0.12.1)\n",
            "Requirement already satisfied: fonttools>=4.22.0 in /usr/local/lib/python3.10/dist-packages (from matplotlib->catboost) (4.53.1)\n",
            "Requirement already satisfied: kiwisolver>=1.0.1 in /usr/local/lib/python3.10/dist-packages (from matplotlib->catboost) (1.4.5)\n",
            "Requirement already satisfied: packaging>=20.0 in /usr/local/lib/python3.10/dist-packages (from matplotlib->catboost) (24.1)\n",
            "Requirement already satisfied: pillow>=6.2.0 in /usr/local/lib/python3.10/dist-packages (from matplotlib->catboost) (9.4.0)\n",
            "Requirement already satisfied: pyparsing>=2.3.1 in /usr/local/lib/python3.10/dist-packages (from matplotlib->catboost) (3.1.2)\n",
            "Requirement already satisfied: tenacity>=6.2.0 in /usr/local/lib/python3.10/dist-packages (from plotly->catboost) (9.0.0)\n",
            "bestTest = 0.263096741\n",
            "bestIteration = 99\n",
            "0:\tloss: 0.2630967\tbest: 0.2630967 (0)\ttotal: 2.01s\tremaining: 30.2s\n",
            "bestTest = 0.2376513973\n",
            "bestIteration = 99\n",
            "1:\tloss: 0.2376514\tbest: 0.2376514 (1)\ttotal: 3.95s\tremaining: 27.6s\n",
            "bestTest = 0.2628883851\n",
            "bestIteration = 99\n",
            "2:\tloss: 0.2628884\tbest: 0.2376514 (1)\ttotal: 5.96s\tremaining: 25.8s\n",
            "bestTest = 0.2381217552\n",
            "bestIteration = 98\n",
            "3:\tloss: 0.2381218\tbest: 0.2376514 (1)\ttotal: 7.89s\tremaining: 23.7s\n",
            "bestTest = 0.2447404474\n",
            "bestIteration = 199\n",
            "4:\tloss: 0.2447404\tbest: 0.2376514 (1)\ttotal: 11.7s\tremaining: 25.8s\n",
            "bestTest = 0.2366087929\n",
            "bestIteration = 199\n",
            "5:\tloss: 0.2366088\tbest: 0.2366088 (5)\ttotal: 15.5s\tremaining: 25.9s\n",
            "bestTest = 0.2447194509\n",
            "bestIteration = 199\n",
            "6:\tloss: 0.2447195\tbest: 0.2366088 (5)\ttotal: 19.4s\tremaining: 25s\n",
            "bestTest = 0.2364120077\n",
            "bestIteration = 199\n",
            "7:\tloss: 0.2364120\tbest: 0.2364120 (7)\ttotal: 23.2s\tremaining: 23.2s\n",
            "bestTest = 0.2568247999\n",
            "bestIteration = 99\n",
            "8:\tloss: 0.2568248\tbest: 0.2364120 (7)\ttotal: 26.5s\tremaining: 20.6s\n",
            "bestTest = 0.2364706452\n",
            "bestIteration = 99\n",
            "9:\tloss: 0.2364706\tbest: 0.2364120 (7)\ttotal: 29.5s\tremaining: 17.7s\n",
            "bestTest = 0.2568655966\n",
            "bestIteration = 99\n",
            "10:\tloss: 0.2568656\tbest: 0.2364120 (7)\ttotal: 32.7s\tremaining: 14.9s\n",
            "bestTest = 0.2365049037\n",
            "bestIteration = 99\n",
            "11:\tloss: 0.2365049\tbest: 0.2364120 (7)\ttotal: 35.8s\tremaining: 11.9s\n",
            "bestTest = 0.2419751016\n",
            "bestIteration = 199\n",
            "12:\tloss: 0.2419751\tbest: 0.2364120 (7)\ttotal: 42.2s\tremaining: 9.74s\n",
            "bestTest = 0.2355561646\n",
            "bestIteration = 199\n",
            "13:\tloss: 0.2355562\tbest: 0.2355562 (13)\ttotal: 48.1s\tremaining: 6.87s\n",
            "bestTest = 0.2419983256\n",
            "bestIteration = 199\n",
            "14:\tloss: 0.2419983\tbest: 0.2355562 (13)\ttotal: 54.6s\tremaining: 3.64s\n",
            "bestTest = 0.2351052975\n",
            "bestIteration = 199\n",
            "15:\tloss: 0.2351053\tbest: 0.2351053 (15)\ttotal: 1m\tremaining: 0us\n",
            "Estimating final quality...\n",
            "Training on fold [0/3]\n",
            "bestTest = 0.2338583858\n",
            "bestIteration = 199\n",
            "Training on fold [1/3]\n",
            "bestTest = 0.235725726\n",
            "bestIteration = 196\n",
            "Training on fold [2/3]\n",
            "bestTest = 0.2362710012\n",
            "bestIteration = 199\n"
          ]
        }
      ]
    },
    {
      "cell_type": "code",
      "source": [
        "from sklearn.metrics import accuracy_score\n",
        "\n",
        "print(f\"Best parameters found: {grid_search_result['params']}\")\n",
        "\n",
        "# Evaluate on the test set\n",
        "y_test_pred = cb.predict(X_test)\n",
        "test_accuracy = accuracy_score(y_test, y_test_pred)\n",
        "print(f'Test Accuracy: {test_accuracy:.4f}')"
      ],
      "metadata": {
        "colab": {
          "base_uri": "https://localhost:8080/"
        },
        "id": "ly7FAW0hvf4-",
        "outputId": "8f538aa3-c5ff-4a84-e8f1-5d66924b99e3"
      },
      "execution_count": null,
      "outputs": [
        {
          "output_type": "stream",
          "name": "stdout",
          "text": [
            "Best parameters found: {'depth': 6, 'learning_rate': 0.1, 'l2_leaf_reg': 3, 'iterations': 200}\n",
            "Validation Accuracy: 0.8874\n",
            "Test Accuracy: 0.8853\n"
          ]
        }
      ]
    },
    {
      "cell_type": "markdown",
      "source": [
        "**Random Forest Classifier**"
      ],
      "metadata": {
        "id": "K9MRVP5G-9FM"
      }
    },
    {
      "cell_type": "code",
      "source": [
        "\n",
        "# Impute missing values with the mean\n",
        "imputer = SimpleImputer(strategy='mean')\n",
        "X_train_imputed = imputer.fit_transform(X_train)\n",
        "X_val_imputed = imputer.transform(X_val)\n",
        "X_test_imputed = imputer.transform(X_test)\n",
        "\n",
        "y_train_np = y_train.values\n",
        "y_val_np = y_val.values\n",
        "y_test_np = y_test.values\n"
      ],
      "metadata": {
        "id": "mhGq5XpBhPiV"
      },
      "execution_count": null,
      "outputs": []
    },
    {
      "cell_type": "code",
      "source": [
        "from sklearn.ensemble import RandomForestClassifier\n",
        "from sklearn.model_selection import train_test_split\n",
        "from sklearn.metrics import accuracy_score\n",
        "\n",
        "\n",
        "# Initialize RandomForestClassifier\n",
        "model = RandomForestClassifier(n_estimators=100, random_state=42)\n",
        "\n",
        "# Train the model\n",
        "model.fit(X_train_imputed, y_train_np)\n",
        "\n",
        "# Predict on validation set\n",
        "y_val_pred = model.predict(X_val_imputed)\n",
        "\n",
        "# Predict on test set\n",
        "y_test_pred = model.predict(X_test_imputed)\n",
        "\n",
        "# Calculate accuracy\n",
        "val_accuracy = accuracy_score(y_val_np, y_val_pred)\n",
        "test_accuracy = accuracy_score(y_test_np, y_test_pred)\n",
        "print(f'Validation Accuracy: {val_accuracy:.4f}')\n",
        "print(f'Test Accuracy: {test_accuracy:.4f}')"
      ],
      "metadata": {
        "colab": {
          "base_uri": "https://localhost:8080/"
        },
        "id": "0RbCgRpnm8mn",
        "outputId": "581bee6c-caa7-4822-9e56-4907b83c86f4"
      },
      "execution_count": null,
      "outputs": [
        {
          "output_type": "stream",
          "name": "stdout",
          "text": [
            "Validation Accuracy: 0.8692\n",
            "Test Accuracy: 0.8657\n"
          ]
        }
      ]
    },
    {
      "cell_type": "markdown",
      "source": [
        "**Tabnet Model**"
      ],
      "metadata": {
        "id": "XxRkAkjy9-qS"
      }
    },
    {
      "cell_type": "code",
      "source": [
        "!pip install pytorch-tabnet\n",
        "from pytorch_tabnet.tab_model import TabNetClassifier"
      ],
      "metadata": {
        "colab": {
          "base_uri": "https://localhost:8080/"
        },
        "id": "QViIvkpQXmAZ",
        "outputId": "3f86e7ec-bfe5-419d-a1e4-b4e109757946"
      },
      "execution_count": null,
      "outputs": [
        {
          "output_type": "stream",
          "name": "stdout",
          "text": [
            "Collecting pytorch-tabnet\n",
            "  Downloading pytorch_tabnet-4.1.0-py3-none-any.whl.metadata (15 kB)\n",
            "Requirement already satisfied: numpy>=1.17 in /usr/local/lib/python3.10/dist-packages (from pytorch-tabnet) (1.26.4)\n",
            "Requirement already satisfied: scikit_learn>0.21 in /usr/local/lib/python3.10/dist-packages (from pytorch-tabnet) (1.3.2)\n",
            "Requirement already satisfied: scipy>1.4 in /usr/local/lib/python3.10/dist-packages (from pytorch-tabnet) (1.13.1)\n",
            "Requirement already satisfied: torch>=1.3 in /usr/local/lib/python3.10/dist-packages (from pytorch-tabnet) (2.3.1+cu121)\n",
            "Requirement already satisfied: tqdm>=4.36 in /usr/local/lib/python3.10/dist-packages (from pytorch-tabnet) (4.66.4)\n",
            "Requirement already satisfied: joblib>=1.1.1 in /usr/local/lib/python3.10/dist-packages (from scikit_learn>0.21->pytorch-tabnet) (1.4.2)\n",
            "Requirement already satisfied: threadpoolctl>=2.0.0 in /usr/local/lib/python3.10/dist-packages (from scikit_learn>0.21->pytorch-tabnet) (3.5.0)\n",
            "Requirement already satisfied: filelock in /usr/local/lib/python3.10/dist-packages (from torch>=1.3->pytorch-tabnet) (3.15.4)\n",
            "Requirement already satisfied: typing-extensions>=4.8.0 in /usr/local/lib/python3.10/dist-packages (from torch>=1.3->pytorch-tabnet) (4.12.2)\n",
            "Requirement already satisfied: sympy in /usr/local/lib/python3.10/dist-packages (from torch>=1.3->pytorch-tabnet) (1.13.1)\n",
            "Requirement already satisfied: networkx in /usr/local/lib/python3.10/dist-packages (from torch>=1.3->pytorch-tabnet) (3.3)\n",
            "Requirement already satisfied: jinja2 in /usr/local/lib/python3.10/dist-packages (from torch>=1.3->pytorch-tabnet) (3.1.4)\n",
            "Requirement already satisfied: fsspec in /usr/local/lib/python3.10/dist-packages (from torch>=1.3->pytorch-tabnet) (2024.6.1)\n",
            "Collecting nvidia-cuda-nvrtc-cu12==12.1.105 (from torch>=1.3->pytorch-tabnet)\n",
            "  Using cached nvidia_cuda_nvrtc_cu12-12.1.105-py3-none-manylinux1_x86_64.whl.metadata (1.5 kB)\n",
            "Collecting nvidia-cuda-runtime-cu12==12.1.105 (from torch>=1.3->pytorch-tabnet)\n",
            "  Using cached nvidia_cuda_runtime_cu12-12.1.105-py3-none-manylinux1_x86_64.whl.metadata (1.5 kB)\n",
            "Collecting nvidia-cuda-cupti-cu12==12.1.105 (from torch>=1.3->pytorch-tabnet)\n",
            "  Using cached nvidia_cuda_cupti_cu12-12.1.105-py3-none-manylinux1_x86_64.whl.metadata (1.6 kB)\n",
            "Collecting nvidia-cudnn-cu12==8.9.2.26 (from torch>=1.3->pytorch-tabnet)\n",
            "  Using cached nvidia_cudnn_cu12-8.9.2.26-py3-none-manylinux1_x86_64.whl.metadata (1.6 kB)\n",
            "Collecting nvidia-cublas-cu12==12.1.3.1 (from torch>=1.3->pytorch-tabnet)\n",
            "  Using cached nvidia_cublas_cu12-12.1.3.1-py3-none-manylinux1_x86_64.whl.metadata (1.5 kB)\n",
            "Collecting nvidia-cufft-cu12==11.0.2.54 (from torch>=1.3->pytorch-tabnet)\n",
            "  Using cached nvidia_cufft_cu12-11.0.2.54-py3-none-manylinux1_x86_64.whl.metadata (1.5 kB)\n",
            "Collecting nvidia-curand-cu12==10.3.2.106 (from torch>=1.3->pytorch-tabnet)\n",
            "  Using cached nvidia_curand_cu12-10.3.2.106-py3-none-manylinux1_x86_64.whl.metadata (1.5 kB)\n",
            "Collecting nvidia-cusolver-cu12==11.4.5.107 (from torch>=1.3->pytorch-tabnet)\n",
            "  Using cached nvidia_cusolver_cu12-11.4.5.107-py3-none-manylinux1_x86_64.whl.metadata (1.6 kB)\n",
            "Collecting nvidia-cusparse-cu12==12.1.0.106 (from torch>=1.3->pytorch-tabnet)\n",
            "  Using cached nvidia_cusparse_cu12-12.1.0.106-py3-none-manylinux1_x86_64.whl.metadata (1.6 kB)\n",
            "Collecting nvidia-nccl-cu12==2.20.5 (from torch>=1.3->pytorch-tabnet)\n",
            "  Using cached nvidia_nccl_cu12-2.20.5-py3-none-manylinux2014_x86_64.whl.metadata (1.8 kB)\n",
            "Collecting nvidia-nvtx-cu12==12.1.105 (from torch>=1.3->pytorch-tabnet)\n",
            "  Using cached nvidia_nvtx_cu12-12.1.105-py3-none-manylinux1_x86_64.whl.metadata (1.7 kB)\n",
            "Requirement already satisfied: triton==2.3.1 in /usr/local/lib/python3.10/dist-packages (from torch>=1.3->pytorch-tabnet) (2.3.1)\n",
            "Collecting nvidia-nvjitlink-cu12 (from nvidia-cusolver-cu12==11.4.5.107->torch>=1.3->pytorch-tabnet)\n",
            "  Downloading nvidia_nvjitlink_cu12-12.5.82-py3-none-manylinux2014_x86_64.whl.metadata (1.5 kB)\n",
            "Requirement already satisfied: MarkupSafe>=2.0 in /usr/local/lib/python3.10/dist-packages (from jinja2->torch>=1.3->pytorch-tabnet) (2.1.5)\n",
            "Requirement already satisfied: mpmath<1.4,>=1.1.0 in /usr/local/lib/python3.10/dist-packages (from sympy->torch>=1.3->pytorch-tabnet) (1.3.0)\n",
            "Downloading pytorch_tabnet-4.1.0-py3-none-any.whl (44 kB)\n",
            "\u001b[2K   \u001b[90m━━━━━━━━━━━━━━━━━━━━━━━━━━━━━━━━━━━━━━━━\u001b[0m \u001b[32m44.5/44.5 kB\u001b[0m \u001b[31m3.4 MB/s\u001b[0m eta \u001b[36m0:00:00\u001b[0m\n",
            "\u001b[?25hUsing cached nvidia_cublas_cu12-12.1.3.1-py3-none-manylinux1_x86_64.whl (410.6 MB)\n",
            "Using cached nvidia_cuda_cupti_cu12-12.1.105-py3-none-manylinux1_x86_64.whl (14.1 MB)\n",
            "Using cached nvidia_cuda_nvrtc_cu12-12.1.105-py3-none-manylinux1_x86_64.whl (23.7 MB)\n",
            "Using cached nvidia_cuda_runtime_cu12-12.1.105-py3-none-manylinux1_x86_64.whl (823 kB)\n",
            "Using cached nvidia_cudnn_cu12-8.9.2.26-py3-none-manylinux1_x86_64.whl (731.7 MB)\n",
            "Using cached nvidia_cufft_cu12-11.0.2.54-py3-none-manylinux1_x86_64.whl (121.6 MB)\n",
            "Using cached nvidia_curand_cu12-10.3.2.106-py3-none-manylinux1_x86_64.whl (56.5 MB)\n",
            "Using cached nvidia_cusolver_cu12-11.4.5.107-py3-none-manylinux1_x86_64.whl (124.2 MB)\n",
            "Using cached nvidia_cusparse_cu12-12.1.0.106-py3-none-manylinux1_x86_64.whl (196.0 MB)\n",
            "Using cached nvidia_nccl_cu12-2.20.5-py3-none-manylinux2014_x86_64.whl (176.2 MB)\n",
            "Using cached nvidia_nvtx_cu12-12.1.105-py3-none-manylinux1_x86_64.whl (99 kB)\n",
            "Downloading nvidia_nvjitlink_cu12-12.5.82-py3-none-manylinux2014_x86_64.whl (21.3 MB)\n",
            "\u001b[2K   \u001b[90m━━━━━━━━━━━━━━━━━━━━━━━━━━━━━━━━━━━━━━━━\u001b[0m \u001b[32m21.3/21.3 MB\u001b[0m \u001b[31m14.9 MB/s\u001b[0m eta \u001b[36m0:00:00\u001b[0m\n",
            "\u001b[?25hInstalling collected packages: nvidia-nvtx-cu12, nvidia-nvjitlink-cu12, nvidia-nccl-cu12, nvidia-curand-cu12, nvidia-cufft-cu12, nvidia-cuda-runtime-cu12, nvidia-cuda-nvrtc-cu12, nvidia-cuda-cupti-cu12, nvidia-cublas-cu12, nvidia-cusparse-cu12, nvidia-cudnn-cu12, nvidia-cusolver-cu12, pytorch-tabnet\n",
            "Successfully installed nvidia-cublas-cu12-12.1.3.1 nvidia-cuda-cupti-cu12-12.1.105 nvidia-cuda-nvrtc-cu12-12.1.105 nvidia-cuda-runtime-cu12-12.1.105 nvidia-cudnn-cu12-8.9.2.26 nvidia-cufft-cu12-11.0.2.54 nvidia-curand-cu12-10.3.2.106 nvidia-cusolver-cu12-11.4.5.107 nvidia-cusparse-cu12-12.1.0.106 nvidia-nccl-cu12-2.20.5 nvidia-nvjitlink-cu12-12.5.82 nvidia-nvtx-cu12-12.1.105 pytorch-tabnet-4.1.0\n"
          ]
        }
      ]
    },
    {
      "cell_type": "code",
      "source": [
        "# Initialize TabNetClassifier\n",
        "clf = TabNetClassifier()\n",
        "\n",
        "# Train the model\n",
        "clf.fit(\n",
        "    X_train=X_train_imputed, y_train=y_train_np,\n",
        "    eval_set=[(X_val_imputed, y_val_np)],\n",
        "    max_epochs=50,\n",
        "    patience=10,\n",
        "    batch_size=1024, virtual_batch_size=128\n",
        ")\n",
        "\n",
        "# Evaluate the model on the test set\n",
        "y_pred = clf.predict(X_test_imputed)\n",
        "test_accuracy = np.mean(y_pred == y_test_np)\n",
        "print(f'Test Accuracy: {test_accuracy:.4f}')"
      ],
      "metadata": {
        "colab": {
          "base_uri": "https://localhost:8080/"
        },
        "id": "DAfTTd_IYiil",
        "outputId": "1f8fb93e-c94c-4cb7-a226-23ba102a0b04"
      },
      "execution_count": null,
      "outputs": [
        {
          "output_type": "stream",
          "name": "stdout",
          "text": [
            "epoch 0  | loss: 0.42013 | val_0_auc: 0.80222 |  0:00:06s\n",
            "epoch 1  | loss: 0.37355 | val_0_auc: 0.78983 |  0:00:08s\n",
            "epoch 2  | loss: 0.37129 | val_0_auc: 0.77415 |  0:00:10s\n",
            "epoch 3  | loss: 0.37014 | val_0_auc: 0.79749 |  0:00:13s\n",
            "epoch 4  | loss: 0.36875 | val_0_auc: 0.82754 |  0:00:16s\n",
            "epoch 5  | loss: 0.36786 | val_0_auc: 0.84492 |  0:00:19s\n",
            "epoch 6  | loss: 0.36824 | val_0_auc: 0.8584  |  0:00:22s\n",
            "epoch 7  | loss: 0.36645 | val_0_auc: 0.86886 |  0:00:24s\n",
            "epoch 8  | loss: 0.36815 | val_0_auc: 0.87226 |  0:00:27s\n",
            "epoch 9  | loss: 0.36593 | val_0_auc: 0.87235 |  0:00:30s\n",
            "epoch 10 | loss: 0.37079 | val_0_auc: 0.87671 |  0:00:33s\n",
            "epoch 11 | loss: 0.36725 | val_0_auc: 0.87669 |  0:00:35s\n",
            "epoch 12 | loss: 0.36756 | val_0_auc: 0.88009 |  0:00:38s\n",
            "epoch 13 | loss: 0.36523 | val_0_auc: 0.87859 |  0:00:41s\n",
            "epoch 14 | loss: 0.36482 | val_0_auc: 0.87948 |  0:00:44s\n",
            "epoch 15 | loss: 0.36371 | val_0_auc: 0.87922 |  0:00:47s\n",
            "epoch 16 | loss: 0.36557 | val_0_auc: 0.87967 |  0:00:49s\n",
            "epoch 17 | loss: 0.36356 | val_0_auc: 0.88044 |  0:00:52s\n",
            "epoch 18 | loss: 0.36274 | val_0_auc: 0.87994 |  0:00:55s\n",
            "epoch 19 | loss: 0.3651  | val_0_auc: 0.87984 |  0:00:58s\n",
            "epoch 20 | loss: 0.36313 | val_0_auc: 0.88071 |  0:01:01s\n",
            "epoch 21 | loss: 0.36056 | val_0_auc: 0.88045 |  0:01:03s\n",
            "epoch 22 | loss: 0.36221 | val_0_auc: 0.88065 |  0:01:06s\n",
            "epoch 23 | loss: 0.36388 | val_0_auc: 0.87999 |  0:01:08s\n",
            "epoch 24 | loss: 0.36215 | val_0_auc: 0.88006 |  0:01:12s\n",
            "epoch 25 | loss: 0.36328 | val_0_auc: 0.87882 |  0:01:17s\n",
            "epoch 26 | loss: 0.3633  | val_0_auc: 0.88007 |  0:01:19s\n",
            "epoch 27 | loss: 0.3637  | val_0_auc: 0.88012 |  0:01:22s\n",
            "epoch 28 | loss: 0.36174 | val_0_auc: 0.88155 |  0:01:25s\n",
            "epoch 29 | loss: 0.36258 | val_0_auc: 0.881   |  0:01:28s\n",
            "epoch 30 | loss: 0.36503 | val_0_auc: 0.88076 |  0:01:30s\n",
            "epoch 31 | loss: 0.36227 | val_0_auc: 0.88116 |  0:01:33s\n",
            "epoch 32 | loss: 0.36171 | val_0_auc: 0.88069 |  0:01:35s\n",
            "epoch 33 | loss: 0.36301 | val_0_auc: 0.8802  |  0:01:39s\n",
            "epoch 34 | loss: 0.36177 | val_0_auc: 0.88068 |  0:01:41s\n",
            "epoch 35 | loss: 0.36367 | val_0_auc: 0.88143 |  0:01:44s\n",
            "epoch 36 | loss: 0.36097 | val_0_auc: 0.881   |  0:01:46s\n",
            "epoch 37 | loss: 0.36016 | val_0_auc: 0.88183 |  0:01:49s\n",
            "epoch 38 | loss: 0.36202 | val_0_auc: 0.88064 |  0:01:53s\n",
            "epoch 39 | loss: 0.36138 | val_0_auc: 0.88136 |  0:01:55s\n",
            "epoch 40 | loss: 0.36229 | val_0_auc: 0.88139 |  0:01:58s\n",
            "epoch 41 | loss: 0.36317 | val_0_auc: 0.88172 |  0:02:00s\n",
            "epoch 42 | loss: 0.36226 | val_0_auc: 0.88141 |  0:02:03s\n",
            "epoch 43 | loss: 0.36105 | val_0_auc: 0.88079 |  0:02:07s\n",
            "epoch 44 | loss: 0.36091 | val_0_auc: 0.88119 |  0:02:09s\n",
            "epoch 45 | loss: 0.36212 | val_0_auc: 0.88167 |  0:02:12s\n",
            "epoch 46 | loss: 0.36283 | val_0_auc: 0.88054 |  0:02:14s\n",
            "epoch 47 | loss: 0.36209 | val_0_auc: 0.88127 |  0:02:17s\n",
            "\n",
            "Early stopping occurred at epoch 47 with best_epoch = 37 and best_val_0_auc = 0.88183\n",
            "Test Accuracy: 0.8338\n"
          ]
        }
      ]
    }
  ]
}
